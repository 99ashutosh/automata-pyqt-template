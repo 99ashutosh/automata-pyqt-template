{
 "cells": [
  {
   "cell_type": "code",
   "execution_count": 2,
   "id": "8d6afa6a",
   "metadata": {},
   "outputs": [],
   "source": [
    "import graphviz\n",
    "import pydot\n",
    "states=[\"q1\", \"q2\",\"q4\",\"q3\",\"q4\"]\n",
    "d = graphviz.Digraph()\n",
    "d.graph_attr['rankdir'] = 'LR'\n",
    "for i in states:\n",
    "    d.node(i)\n",
    "\n",
    "for i in range(len(states)-1):\n",
    "    if (i != len(states)):\n",
    "        d.edge(states[i], states[i+1])\n",
    "d.render()\n",
    "\n",
    "\n",
    "(graph,) = pydot.graph_from_dot_file('Digraph.gv')\n",
    "graph.write_png('somefile.png')"
   ]
  },
  {
   "cell_type": "code",
   "execution_count": null,
   "id": "86d85e8d",
   "metadata": {},
   "outputs": [],
   "source": []
  }
 ],
 "metadata": {
  "kernelspec": {
   "display_name": "Python 3 (ipykernel)",
   "language": "python",
   "name": "python3"
  },
  "language_info": {
   "codemirror_mode": {
    "name": "ipython",
    "version": 3
   },
   "file_extension": ".py",
   "mimetype": "text/x-python",
   "name": "python",
   "nbconvert_exporter": "python",
   "pygments_lexer": "ipython3",
   "version": "3.8.11"
  }
 },
 "nbformat": 4,
 "nbformat_minor": 5
}
