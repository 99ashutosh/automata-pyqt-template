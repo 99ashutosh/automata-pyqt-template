{
 "cells": [
  {
   "cell_type": "code",
   "execution_count": 74,
   "id": "9bec9047",
   "metadata": {},
   "outputs": [
    {
     "data": {
      "text/plain": [
       "'aaaaaaaaaaaaabbbbbbbbbbbbb'"
      ]
     },
     "execution_count": 74,
     "metadata": {},
     "output_type": "execute_result"
    }
   ],
   "source": [
    "import exrex\n",
    "\n",
    "exrex.getone('(a*b*)')"
   ]
  },
  {
   "cell_type": "code",
   "execution_count": null,
   "id": "a91c5e84",
   "metadata": {},
   "outputs": [],
   "source": []
  },
  {
   "cell_type": "code",
   "execution_count": 57,
   "id": "d8dacdfe",
   "metadata": {},
   "outputs": [
    {
     "name": "stdout",
     "output_type": "stream",
     "text": [
      "aaaaaabbbbbb\n"
     ]
    }
   ],
   "source": [
    "stqr=\"\"\n",
    "for i in range(6):\n",
    "    stqr += \"\".join(\"a\")\n",
    "for i in range(6):\n",
    "    stqr += \"\".join(\"b\")\n",
    "print(stqr)"
   ]
  },
  {
   "cell_type": "code",
   "execution_count": 73,
   "id": "8add1888",
   "metadata": {},
   "outputs": [
    {
     "name": "stdout",
     "output_type": "stream",
     "text": [
      "Not in Language\n"
     ]
    }
   ],
   "source": [
    "stqr=\"aaaaabbbbbb\"\n",
    "count = 0\n",
    "count1 = 0\n",
    "for i in stqr:\n",
    "    if i != \"b\":\n",
    "        count = count + 1;\n",
    "        \n",
    "for i in stqr:\n",
    "    if i != \"a\":\n",
    "        count1 = count1 + 1;\n",
    "\n",
    "if count != count1:\n",
    "    print(\"Not in Language\")"
   ]
  },
  {
   "cell_type": "code",
   "execution_count": 71,
   "id": "2ca94e30",
   "metadata": {},
   "outputs": [
    {
     "name": "stdout",
     "output_type": "stream",
     "text": [
      "aaaaabbbbbb\n"
     ]
    }
   ],
   "source": [
    "b = \"aaaaa\"\n",
    "y = \"a\"\n",
    "z = \"bbbbbb\"\n",
    "\n",
    "print(b+y*0+z)"
   ]
  },
  {
   "cell_type": "code",
   "execution_count": 13,
   "id": "1a5a04f2",
   "metadata": {},
   "outputs": [
    {
     "data": {
      "text/plain": [
       "4"
      ]
     },
     "execution_count": 13,
     "metadata": {},
     "output_type": "execute_result"
    }
   ],
   "source": [
    "stqr=\"aabb\"\n",
    "y = stqr[5:6]\n",
    "len(stqr)"
   ]
  },
  {
   "cell_type": "code",
   "execution_count": 10,
   "id": "309617c8",
   "metadata": {},
   "outputs": [
    {
     "data": {
      "text/plain": [
       "'bbbbb'"
      ]
     },
     "execution_count": 10,
     "metadata": {},
     "output_type": "execute_result"
    }
   ],
   "source": [
    "y"
   ]
  },
  {
   "cell_type": "code",
   "execution_count": null,
   "id": "e353f2ea",
   "metadata": {},
   "outputs": [],
   "source": []
  }
 ],
 "metadata": {
  "kernelspec": {
   "display_name": "Python 3 (ipykernel)",
   "language": "python",
   "name": "python3"
  },
  "language_info": {
   "codemirror_mode": {
    "name": "ipython",
    "version": 3
   },
   "file_extension": ".py",
   "mimetype": "text/x-python",
   "name": "python",
   "nbconvert_exporter": "python",
   "pygments_lexer": "ipython3",
   "version": "3.8.11"
  }
 },
 "nbformat": 4,
 "nbformat_minor": 5
}
